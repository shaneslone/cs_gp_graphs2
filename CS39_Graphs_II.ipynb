{
  "nbformat": 4,
  "nbformat_minor": 0,
  "metadata": {
    "colab": {
      "name": "CS39: Graphs II",
      "provenance": [],
      "include_colab_link": true
    },
    "kernelspec": {
      "name": "python3",
      "display_name": "Python 3"
    }
  },
  "cells": [
    {
      "cell_type": "markdown",
      "metadata": {
        "id": "view-in-github",
        "colab_type": "text"
      },
      "source": [
        "<a href=\"https://colab.research.google.com/github/shaneslone/cs_gp_graphs2/blob/main/CS39_Graphs_II.ipynb\" target=\"_parent\"><img src=\"https://colab.research.google.com/assets/colab-badge.svg\" alt=\"Open In Colab\"/></a>"
      ]
    },
    {
      "cell_type": "markdown",
      "metadata": {
        "id": "QPwCnEfm8Ppx"
      },
      "source": [
        "Graphs II"
      ]
    },
    {
      "cell_type": "code",
      "metadata": {
        "id": "9d27I6LL8H7x"
      },
      "source": [
        "class GraphNode:\n",
        "    def __init__(self, value):\n",
        "        self.value = value\n",
        "        self.edges = []\n",
        "\n",
        "    def __repr__(self):\n",
        "        return f\"GraphNode({repr(self.value)})\"\n",
        "\n",
        "# Build this by hand here\n",
        "a = GraphNode(\"A\")\n",
        "b = GraphNode(\"B\")\n",
        "c = GraphNode(\"C\")\n",
        "d = GraphNode(\"D\")\n",
        "e = GraphNode(\"E\")\n",
        "f = GraphNode(\"F\")\n",
        "g = GraphNode(\"G\")\n",
        "\n",
        "a.edges = [c, d, b]\n",
        "b.edges = [e, a]\n",
        "c.edges = [d]\n",
        "d.edges = [f, e]\n",
        "e.edges = [f]\n",
        "f.edges = [g]"
      ],
      "execution_count": null,
      "outputs": []
    },
    {
      "cell_type": "code",
      "metadata": {
        "colab": {
          "base_uri": "https://localhost:8080/"
        },
        "id": "ejAaI66LCn2s",
        "outputId": "7121a4bb-1629-447f-a723-41191a7dd1fb"
      },
      "source": [
        "from collections import deque\n",
        "\n",
        "def bft(starting_node):\n",
        "    # Init: add the first node to the queue\n",
        "    queue = deque()\n",
        "    queue.append(starting_node)  # enqueue\n",
        "\n",
        "    # Keep track of visited nodes\n",
        "    visited = set()\n",
        "\n",
        "    # Loop while queue isn't empty\n",
        "    while len(queue) != 0:\n",
        "        # dequeue first node\n",
        "        n = queue.popleft()   # dequeue\n",
        "        \n",
        "        # if already visited: continue\n",
        "        if n in visited:\n",
        "            continue\n",
        "\n",
        "        # visit it\n",
        "        print(n.value)\n",
        "\n",
        "        # add to visited set\n",
        "        visited.add(n)\n",
        "\n",
        "        # enqueue all the neighbors\n",
        "        for neighbor in n.edges:\n",
        "            queue.append(neighbor)   # enqueue\n",
        "\n",
        "bft(a)"
      ],
      "execution_count": null,
      "outputs": [
        {
          "output_type": "stream",
          "text": [
            "A\n",
            "C\n",
            "D\n",
            "B\n",
            "F\n",
            "E\n"
          ],
          "name": "stdout"
        }
      ]
    },
    {
      "cell_type": "code",
      "metadata": {
        "colab": {
          "base_uri": "https://localhost:8080/"
        },
        "id": "GTgonB95HXqe",
        "outputId": "01f6d081-fccc-477c-e163-51f02f64aaee"
      },
      "source": [
        "from collections import deque\n",
        "\n",
        "def bfs(starting_node, ending_node):\n",
        "    # Keep track of paths so far\n",
        "    paths = {}\n",
        "\n",
        "    # Init: add the first node to the queue\n",
        "    queue = deque()\n",
        "    queue.append(starting_node)  # enqueue\n",
        "\n",
        "    paths[starting_node] = [starting_node.value]\n",
        "\n",
        "    # Keep track of visited nodes\n",
        "    visited = set()\n",
        "\n",
        "    # Loop while queue isn't empty\n",
        "    while len(queue) != 0:\n",
        "        # dequeue first node\n",
        "        n = queue.popleft()   # dequeue\n",
        "        \n",
        "        # if already visited: continue\n",
        "        if n in visited:\n",
        "            continue\n",
        "\n",
        "        # visit it\n",
        "        #print(n.value, paths[n])\n",
        "\n",
        "        # add to visited set\n",
        "        visited.add(n)\n",
        "\n",
        "        # enqueue all the neighbors\n",
        "        for neighbor in n.edges:\n",
        "            # Update path to this neighbor\n",
        "            \"\"\"\n",
        "            path_to_n = paths[n]\n",
        "            path_to_neighbor = path_to_n + [neighbor.value]\n",
        "            paths[neighbor] = path_to_neighbor\n",
        "            \"\"\"\n",
        "\n",
        "            if neighbor not in paths:\n",
        "                paths[neighbor] = paths[n] + [neighbor.value]\n",
        "\n",
        "            # These are the droids we're looking for\n",
        "            if neighbor == ending_node:\n",
        "                return paths[neighbor]\n",
        "\n",
        "            #print(f\"Going from {n.value} to {neighbor.value}\")\n",
        "\n",
        "            queue.append(neighbor)   # enqueue\n",
        "            #print(f\"queue: {queue}\")\n",
        "\n",
        "        # If we got here, didn't find anything\n",
        "        return None\n",
        "\n",
        "print(bfs(a,a))  # shortest path from a to f"
      ],
      "execution_count": null,
      "outputs": [
        {
          "output_type": "stream",
          "text": [
            "None\n"
          ],
          "name": "stdout"
        }
      ]
    },
    {
      "cell_type": "markdown",
      "metadata": {
        "id": "rWTZLz_0TJUa"
      },
      "source": [
        "Connected Components"
      ]
    }
  ]
}